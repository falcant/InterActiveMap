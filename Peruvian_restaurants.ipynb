{
 "cells": [
  {
   "cell_type": "code",
   "execution_count": 57,
   "metadata": {},
   "outputs": [],
   "source": [
    "import folium\n",
    "import ipywidgets\n",
    "%matplotlib inline\n",
    "import pandas as pd\n",
    "import re\n",
    "import os\n",
    "import branca.colormap as cm\n",
    "import re\n",
    "import numpy as np\n",
    "\n",
    "import plotly.express as px\n",
    "import json  # python integrated package\n",
    "import dash\n",
    "import dash_html_components as html\n",
    "import pandas as pd\n",
    "import dash_table\n",
    "import dash_core_components as dcc\n",
    "from dash.dependencies import Input, Output\n",
    "from collections import OrderedDict "
   ]
  },
  {
   "cell_type": "code",
   "execution_count": 58,
   "metadata": {},
   "outputs": [],
   "source": [
    "data = pd.read_csv(\"RestData.csv\",encoding = \"ISO-8859-1\", engine='python')"
   ]
  },
  {
   "cell_type": "code",
   "execution_count": 59,
   "metadata": {},
   "outputs": [
    {
     "data": {
      "text/html": [
       "<div>\n",
       "<style scoped>\n",
       "    .dataframe tbody tr th:only-of-type {\n",
       "        vertical-align: middle;\n",
       "    }\n",
       "\n",
       "    .dataframe tbody tr th {\n",
       "        vertical-align: top;\n",
       "    }\n",
       "\n",
       "    .dataframe thead th {\n",
       "        text-align: right;\n",
       "    }\n",
       "</style>\n",
       "<table border=\"1\" class=\"dataframe\">\n",
       "  <thead>\n",
       "    <tr style=\"text-align: right;\">\n",
       "      <th></th>\n",
       "      <th>Latitude</th>\n",
       "      <th>Longitude</th>\n",
       "      <th>Name</th>\n",
       "      <th>Website</th>\n",
       "      <th>Address</th>\n",
       "      <th>City</th>\n",
       "      <th>Driving</th>\n",
       "      <th>Hours</th>\n",
       "      <th>Patio/Outside Seating</th>\n",
       "      <th>Phone</th>\n",
       "    </tr>\n",
       "  </thead>\n",
       "  <tbody>\n",
       "    <tr>\n",
       "      <th>0</th>\n",
       "      <td>33.89720</td>\n",
       "      <td>-118.30873</td>\n",
       "      <td>Peru Chicha</td>\n",
       "      <td>https://www.peruchicha.com/</td>\n",
       "      <td>14800 S Western Ave Unit 103, Gardena, CA 90249</td>\n",
       "      <td>Gardena</td>\n",
       "      <td>https://www.google.com/maps/dir/?api=1&amp;destina...</td>\n",
       "      <td>M: Closed\\nT-F:10:30am - 8:00pm\\nS-Sun:10:00am...</td>\n",
       "      <td>Yes</td>\n",
       "      <td>(310) 819-8665</td>\n",
       "    </tr>\n",
       "    <tr>\n",
       "      <th>1</th>\n",
       "      <td>33.80053</td>\n",
       "      <td>-118.21505</td>\n",
       "      <td>Casa Chaskis</td>\n",
       "      <td>https://www.facebook.com/casachaskis/</td>\n",
       "      <td>2380 Santa Fe Ave, Long Beach, CA 90810</td>\n",
       "      <td>Long Beach</td>\n",
       "      <td>https://www.google.com/maps/dir/?api=1&amp;destina...</td>\n",
       "      <td>M-S:11:00am -8:pm\\nSun:12:00pm -8:00pm</td>\n",
       "      <td>Yes</td>\n",
       "      <td>(562) 612-3305</td>\n",
       "    </tr>\n",
       "    <tr>\n",
       "      <th>2</th>\n",
       "      <td>33.80478</td>\n",
       "      <td>-118.32561</td>\n",
       "      <td>Kotosh</td>\n",
       "      <td>https://kotosh-restaurant.com/</td>\n",
       "      <td>2408 Lomita Blvd. Suite C Lomita, CA 90717</td>\n",
       "      <td>Lomita</td>\n",
       "      <td>https://www.google.com/maps/dir/?api=1&amp;destina...</td>\n",
       "      <td>S-Th:11:00am - 8:00pm\\nF/Sat:11:00am -9:00pm</td>\n",
       "      <td>No</td>\n",
       "      <td>(310) 257-1363</td>\n",
       "    </tr>\n",
       "    <tr>\n",
       "      <th>3</th>\n",
       "      <td>33.83229</td>\n",
       "      <td>-118.01039</td>\n",
       "      <td>Aji Limon</td>\n",
       "      <td>http://ajilimon.com/</td>\n",
       "      <td>7035 Lincoln Ave, Buena Park, CA 90620</td>\n",
       "      <td>Buena Park</td>\n",
       "      <td>https://www.google.com/maps/dir/?api=1&amp;destina...</td>\n",
       "      <td>M-Th: 11:00am - 8pm\\nF: 11:00am-9pm\\nS: 9:30am...</td>\n",
       "      <td>No</td>\n",
       "      <td>(714) 229-1500</td>\n",
       "    </tr>\n",
       "    <tr>\n",
       "      <th>4</th>\n",
       "      <td>33.87265</td>\n",
       "      <td>-118.29777</td>\n",
       "      <td>El Rocoto</td>\n",
       "      <td>http://elrocoto.com/</td>\n",
       "      <td>1356 W Artesia Blvd, Gardena, CA 90247</td>\n",
       "      <td>Gardena</td>\n",
       "      <td>https://www.google.com/maps/dir/?api=1&amp;destina...</td>\n",
       "      <td>Sun-Th:11:00am-8:00pm\\nF-S: 11:00am-9:00pm</td>\n",
       "      <td>No</td>\n",
       "      <td>(310) 768-8768</td>\n",
       "    </tr>\n",
       "  </tbody>\n",
       "</table>\n",
       "</div>"
      ],
      "text/plain": [
       "   Latitude  Longitude          Name                                Website  \\\n",
       "0  33.89720 -118.30873   Peru Chicha            https://www.peruchicha.com/   \n",
       "1  33.80053 -118.21505  Casa Chaskis  https://www.facebook.com/casachaskis/   \n",
       "2  33.80478 -118.32561        Kotosh         https://kotosh-restaurant.com/   \n",
       "3  33.83229 -118.01039     Aji Limon                   http://ajilimon.com/   \n",
       "4  33.87265 -118.29777     El Rocoto                   http://elrocoto.com/   \n",
       "\n",
       "                                           Address        City  \\\n",
       "0  14800 S Western Ave Unit 103, Gardena, CA 90249     Gardena   \n",
       "1          2380 Santa Fe Ave, Long Beach, CA 90810  Long Beach   \n",
       "2       2408 Lomita Blvd. Suite C Lomita, CA 90717      Lomita   \n",
       "3           7035 Lincoln Ave, Buena Park, CA 90620  Buena Park   \n",
       "4           1356 W Artesia Blvd, Gardena, CA 90247     Gardena   \n",
       "\n",
       "                                             Driving  \\\n",
       "0  https://www.google.com/maps/dir/?api=1&destina...   \n",
       "1  https://www.google.com/maps/dir/?api=1&destina...   \n",
       "2  https://www.google.com/maps/dir/?api=1&destina...   \n",
       "3  https://www.google.com/maps/dir/?api=1&destina...   \n",
       "4  https://www.google.com/maps/dir/?api=1&destina...   \n",
       "\n",
       "                                               Hours Patio/Outside Seating  \\\n",
       "0  M: Closed\\nT-F:10:30am - 8:00pm\\nS-Sun:10:00am...                   Yes   \n",
       "1             M-S:11:00am -8:pm\\nSun:12:00pm -8:00pm                   Yes   \n",
       "2       S-Th:11:00am - 8:00pm\\nF/Sat:11:00am -9:00pm                    No   \n",
       "3  M-Th: 11:00am - 8pm\\nF: 11:00am-9pm\\nS: 9:30am...                    No   \n",
       "4         Sun-Th:11:00am-8:00pm\\nF-S: 11:00am-9:00pm                    No   \n",
       "\n",
       "            Phone  \n",
       "0  (310) 819-8665  \n",
       "1  (562) 612-3305  \n",
       "2  (310) 257-1363  \n",
       "3  (714) 229-1500  \n",
       "4  (310) 768-8768  "
      ]
     },
     "execution_count": 59,
     "metadata": {},
     "output_type": "execute_result"
    }
   ],
   "source": [
    "data"
   ]
  },
  {
   "cell_type": "code",
   "execution_count": 60,
   "metadata": {},
   "outputs": [
    {
     "data": {
      "text/plain": [
       "Index(['Latitude', 'Longitude', 'Name', 'Website', 'Address', 'City',\n",
       "       'Driving', 'Hours', 'Patio/Outside Seating', 'Phone'],\n",
       "      dtype='object')"
      ]
     },
     "execution_count": 60,
     "metadata": {},
     "output_type": "execute_result"
    }
   ],
   "source": [
    "data.columns"
   ]
  },
  {
   "cell_type": "code",
   "execution_count": 61,
   "metadata": {},
   "outputs": [],
   "source": [
    "# To Reference Location on Google\n",
    "# https://stackoverflow.com/questions/15042283/current-location-google-maps-link-to-directions"
   ]
  },
  {
   "cell_type": "code",
   "execution_count": 62,
   "metadata": {},
   "outputs": [
    {
     "data": {
      "text/html": [
       "<div style=\"width:100%;\"><div style=\"position:relative;width:100%;height:0;padding-bottom:60%;\"><span style=\"color:#565656\">Make this Notebook Trusted to load map: File -> Trust Notebook</span><iframe src=\"about:blank\" style=\"position:absolute;width:100%;height:100%;left:0;top:0;border:none !important;\" data-html=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 onload=\"this.contentDocument.open();this.contentDocument.write(atob(this.getAttribute('data-html')));this.contentDocument.close();\" allowfullscreen webkitallowfullscreen mozallowfullscreen></iframe></div></div>"
      ],
      "text/plain": [
       "<folium.folium.Map at 0x21f37759688>"
      ]
     },
     "execution_count": 62,
     "metadata": {},
     "output_type": "execute_result"
    }
   ],
   "source": [
    "#create a map\n",
    "this_map = folium.Map(prefer_canvas=True,tiles='cartodbpositron')\n",
    "\n",
    "def makeHref(url,link_text = None):\n",
    "    if link_text == None:\n",
    "        link_text = str(url)\n",
    "    return '<a href=\"' + url + '\"target=\"_blank\">' + re.sub(r\"[']+\", \"\\\\\\\\'\", link_text[:45]) +'</a>'\n",
    "\n",
    "def popopHTMLString(point):\n",
    "    '''input: a series that contains a url somewhere in it and generate html'''\n",
    "    #html = 'Listing: ' + makeHref(point.listing_url, point.listing_name) + '<br>'\n",
    "    html = 'Name: ' + makeHref(point.Website, point.Name) + '<br>'\n",
    "    html +=  'Hours: ' + point.Hours + '<br>'\n",
    "    html += 'Patio/Outdoor Seating: ' + point['Patio/Outside Seating'] + '<br>'\n",
    "    html += 'Address: ' + makeHref(point.Driving, point.Address)   + '<br>'\n",
    "    html += 'Phone: ' + point.Phone\n",
    "    return html\n",
    "\n",
    "def plotDot(point):\n",
    "    '''input: series that contains a numeric named latitude and a numeric named longitude\n",
    "    this function creates a CircleMarker and adds it to your this_map'''\n",
    "    htmlString = folium.Html(popopHTMLString(point), script=True)\n",
    "    folium.Marker(location=[point.Latitude, point.Longitude],\n",
    "                        radius=2,\n",
    "                        weight=0,#remove outline\n",
    "                        #popup = folium.Popup(htmlString,max_width=300,min_width=300),\n",
    "                        popup = folium.Popup(htmlString),\n",
    "                        fill_color='#000000').add_to(this_map)\n",
    "\n",
    "#use df.apply(,axis=1) to iterate through every row in your dataframe\n",
    "data.apply(plotDot, axis = 1)\n",
    "\n",
    "#Set the zoom to the maximum possible\n",
    "this_map.fit_bounds(this_map.get_bounds())\n",
    "\n",
    "#Save the map to an HTML file\n",
    "#this_map.save(os.path.join('html_map_output/html_pop_up.html'))\n",
    "\n",
    "\n",
    "this_map"
   ]
  },
  {
   "cell_type": "code",
   "execution_count": null,
   "metadata": {},
   "outputs": [],
   "source": []
  },
  {
   "cell_type": "code",
   "execution_count": 63,
   "metadata": {},
   "outputs": [],
   "source": [
    "this_map.save('Peruvian_Restaurants.html')"
   ]
  },
  {
   "cell_type": "code",
   "execution_count": null,
   "metadata": {},
   "outputs": [],
   "source": []
  },
  {
   "cell_type": "code",
   "execution_count": null,
   "metadata": {},
   "outputs": [
    {
     "name": "stdout",
     "output_type": "stream",
     "text": [
      "Dash is running on http://127.0.0.1:8050/\n",
      "\n",
      "Dash is running on http://127.0.0.1:8050/\n",
      "\n",
      "Dash is running on http://127.0.0.1:8050/\n",
      "\n",
      "Dash is running on http://127.0.0.1:8050/\n",
      "\n",
      "Dash is running on http://127.0.0.1:8050/\n",
      "\n",
      "Dash is running on http://127.0.0.1:8050/\n",
      "\n",
      "Dash is running on http://127.0.0.1:8050/\n",
      "\n",
      "Dash is running on http://127.0.0.1:8050/\n",
      "\n",
      " Warning: This is a development server. Do not use app.run_server\n",
      " Warning: This is a development server. Do not use app.run_server\n",
      " Warning: This is a development server. Do not use app.run_server\n",
      " Warning: This is a development server. Do not use app.run_server\n",
      " Warning: This is a development server. Do not use app.run_server\n",
      " Warning: This is a development server. Do not use app.run_server\n",
      " Warning: This is a development server. Do not use app.run_server\n",
      " Warning: This is a development server. Do not use app.run_server\n",
      " in production, use a production WSGI server like gunicorn instead.\n",
      "\n",
      " in production, use a production WSGI server like gunicorn instead.\n",
      "\n",
      " in production, use a production WSGI server like gunicorn instead.\n",
      "\n",
      " in production, use a production WSGI server like gunicorn instead.\n",
      "\n",
      " in production, use a production WSGI server like gunicorn instead.\n",
      "\n",
      " in production, use a production WSGI server like gunicorn instead.\n",
      "\n",
      " in production, use a production WSGI server like gunicorn instead.\n",
      "\n",
      " in production, use a production WSGI server like gunicorn instead.\n",
      "\n",
      " * Serving Flask app \"__main__\" (lazy loading)\n",
      " * Environment: production\n",
      "   WARNING: This is a development server. Do not use it in a production deployment.\n",
      "   Use a production WSGI server instead.\n",
      " * Debug mode: off\n"
     ]
    },
    {
     "name": "stderr",
     "output_type": "stream",
     "text": [
      " * Running on http://127.0.0.1:8050/ (Press CTRL+C to quit)\n",
      "127.0.0.1 - - [12/Nov/2020 11:51:56] \"\u001b[37mGET / HTTP/1.1\u001b[0m\" 200 -\n",
      "127.0.0.1 - - [12/Nov/2020 11:51:56] \"\u001b[37mGET /_dash-layout HTTP/1.1\u001b[0m\" 200 -\n",
      "127.0.0.1 - - [12/Nov/2020 11:51:56] \"\u001b[37mGET /_dash-dependencies HTTP/1.1\u001b[0m\" 200 -\n"
     ]
    }
   ],
   "source": [
    "external_stylesheets = ['https://codepen.io/chriddyp/pen/bWLwgP.css']\n",
    "\n",
    "app = dash.Dash(__name__, external_stylesheets=external_stylesheets)\n",
    "\n",
    "server = app.server\n",
    "\n",
    "app.layout = html.Div([\n",
    "    html.H2('Favorite Peruvian Restaurants by Felix'),\n",
    "     html.H6('I have eaten at these places and their food is bomb!!'),\n",
    "   \n",
    "    html.Div(id='display-value'),\n",
    "\n",
    "    # Folium Map\n",
    "    html.Iframe(id='map',srcDoc = open('Peruvian_Restaurants.html', 'r').read(), width = '90%', height = '800')\n",
    "])\n",
    "\n",
    "#@app.callback(dash.dependencies.Output('display-value', 'children'),\n",
    "#              [dash.dependencies.Input('dropdown', 'value')])\n",
    "#def display_value(value):\n",
    "    \n",
    "#    return 'You have selected \"{}\"'.format(value)\n",
    "\n",
    "if __name__ == '__main__':\n",
    "    app.run_server(debug=False)"
   ]
  },
  {
   "cell_type": "code",
   "execution_count": 65,
   "metadata": {},
   "outputs": [],
   "source": [
    "# Follow this to crwate future widgets!\n",
    "\n",
    "# https://github.com/groundhogday321/python-folium/blob/master/Python%20Maps%20with%20Folium.ipynb"
   ]
  }
 ],
 "metadata": {
  "kernelspec": {
   "display_name": "Python 3",
   "language": "python",
   "name": "python3"
  },
  "language_info": {
   "codemirror_mode": {
    "name": "ipython",
    "version": 3
   },
   "file_extension": ".py",
   "mimetype": "text/x-python",
   "name": "python",
   "nbconvert_exporter": "python",
   "pygments_lexer": "ipython3",
   "version": "3.7.7"
  }
 },
 "nbformat": 4,
 "nbformat_minor": 4
}
